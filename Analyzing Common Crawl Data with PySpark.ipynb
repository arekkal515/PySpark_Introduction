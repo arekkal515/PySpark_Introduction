{
 "cells": [
  {
   "cell_type": "markdown",
   "id": "796ed1e2",
   "metadata": {},
   "source": [
    "# Common Crawl Data"
   ]
  },
  {
   "cell_type": "markdown",
   "id": "75d3c825",
   "metadata": {},
   "source": [
    "https://www.codecademy.com/courses/big-data-pyspark/projects/pyspark-common-crawl"
   ]
  },
  {
   "cell_type": "markdown",
   "id": "ca5287a0",
   "metadata": {},
   "source": [
    "## Assumptions"
   ]
  },
  {
   "cell_type": "markdown",
   "id": "612b76d7",
   "metadata": {},
   "source": [
    "- data is from https://commoncrawl.org/\n",
    "- The Common Crawl is a non-profit organization that crawls, archives, and analyzes content on all public websites\n",
    "- data is publicly available"
   ]
  },
  {
   "cell_type": "markdown",
   "id": "a49f54ae",
   "metadata": {},
   "source": [
    "## Analyzing Common Crawl Data with RDDs"
   ]
  },
  {
   "cell_type": "markdown",
   "id": "0e58cd91",
   "metadata": {},
   "source": [
    "### Initialize a new Spark Context"
   ]
  },
  {
   "cell_type": "code",
   "execution_count": 7,
   "id": "ac6191f0",
   "metadata": {},
   "outputs": [],
   "source": [
    "from pyspark.sql import SparkSession\n",
    "\n",
    "spark = SparkSession \\\n",
    "        .builder \\\n",
    "        .getOrCreate()\n",
    "\n",
    "sc = spark.sparkContext"
   ]
  },
  {
   "cell_type": "code",
   "execution_count": 12,
   "id": "ccbd5275",
   "metadata": {},
   "outputs": [
    {
     "name": "stdout",
     "output_type": "stream",
     "text": [
      "['367855\\t172-in-addr\\tarpa\\t1', '367856\\taddr\\tarpa\\t1', '367857\\tamphic\\tarpa\\t1', '367858\\tbeta\\tarpa\\t1', '367859\\tcallic\\tarpa\\t1']\n"
     ]
    }
   ],
   "source": [
    "# read domains csv file into an rdd\n",
    "common_crawl_domain_counts = sc.textFile('./crawl/cc-main-limited-domains.csv')\n",
    "\n",
    "# Display first few domains from the RDD\n",
    "print(common_crawl_domain_counts.take(5))"
   ]
  },
  {
   "cell_type": "markdown",
   "id": "1da1d666",
   "metadata": {},
   "source": [
    "### Adjust output"
   ]
  },
  {
   "cell_type": "code",
   "execution_count": 16,
   "id": "564e568c",
   "metadata": {},
   "outputs": [],
   "source": [
    "def fmt_domain_graph_entry(entry):\n",
    "    \"\"\"\n",
    "    Formats a Common Crawl domain graph entry. Extracts the site_id, \n",
    "    top-level domain (tld), domain name, and subdomain count as seperate items.\n",
    "    \"\"\"\n",
    "    # Split the entry on delimiter ('\\t') into site_id, domain, tld, and num_subdomains\n",
    "    site_id, domain, tld, num_subdomains = entry.split('\\t')        \n",
    "    return int(site_id), domain, tld, int(num_subdomains)"
   ]
  },
  {
   "cell_type": "code",
   "execution_count": 19,
   "id": "edf3c5bb",
   "metadata": {},
   "outputs": [
    {
     "name": "stdout",
     "output_type": "stream",
     "text": [
      "[(367855, '172-in-addr', 'arpa', 1), (367856, 'addr', 'arpa', 1), (367857, 'amphic', 'arpa', 1), (367858, 'beta', 'arpa', 1), (367859, 'callic', 'arpa', 1)]\n"
     ]
    }
   ],
   "source": [
    "# Apply `fmt_domain_graph_entry` to the raw data RDD\n",
    "formatted_host_counts = common_crawl_domain_counts.map(fmt_domain_graph_entry)\n",
    "\n",
    "# Display the first few entries of the new RDD\n",
    "print(formatted_host_counts.take(5))"
   ]
  },
  {
   "cell_type": "code",
   "execution_count": 21,
   "id": "ee270286",
   "metadata": {},
   "outputs": [
    {
     "name": "stdout",
     "output_type": "stream",
     "text": [
      "[1, 1, 1, 1, 1]\n"
     ]
    }
   ],
   "source": [
    "def extract_subdomain_counts(entry):\n",
    "    \"\"\"\n",
    "    Extract the subdomain count from a Common Crawl domain graph entry.\n",
    "    \"\"\"\n",
    "    \n",
    "    # Split the entry on delimiter ('\\t') into site_id, domain, tld, and num_subdomains\n",
    "    site_id, domain, tld, num_subdomains = entry.split('\\t')\n",
    "    \n",
    "    # return ONLY the num_subdomains\n",
    "    return int(num_subdomains)\n",
    "\n",
    "\n",
    "# Apply `extract_subdomain_counts` to the raw data RDD\n",
    "host_counts = common_crawl_domain_counts.map(extract_subdomain_counts)\n",
    "\n",
    "# Display the first few entries\n",
    "print(host_counts.take(5))"
   ]
  },
  {
   "cell_type": "markdown",
   "id": "36130718",
   "metadata": {},
   "source": [
    "### Calculate total nuber of subdomains across all domains in the dataset"
   ]
  },
  {
   "cell_type": "code",
   "execution_count": 25,
   "id": "22aa9ede",
   "metadata": {
    "scrolled": true
   },
   "outputs": [
    {
     "name": "stdout",
     "output_type": "stream",
     "text": [
      "595466\n"
     ]
    }
   ],
   "source": [
    "# Reduce the RDD to a single value, the sum of subdomains, with a lambda function\n",
    "# as the reduce function\n",
    "total_host_counts = host_counts.reduce(lambda x,y: x+y)\n",
    "print(total_host_counts)"
   ]
  },
  {
   "cell_type": "markdown",
   "id": "58c5dda0",
   "metadata": {},
   "source": [
    "### Stop the SparkSession"
   ]
  },
  {
   "cell_type": "code",
   "execution_count": 28,
   "id": "b025fb9b",
   "metadata": {},
   "outputs": [],
   "source": [
    "spark.stop()"
   ]
  },
  {
   "cell_type": "markdown",
   "id": "c50ec4bd",
   "metadata": {},
   "source": [
    "## Exploring Domain Counts with PySpark DataFrames and SQL"
   ]
  },
  {
   "cell_type": "markdown",
   "id": "e03d93a0",
   "metadata": {},
   "source": [
    "### Initalize new SparkSession and read data"
   ]
  },
  {
   "cell_type": "code",
   "execution_count": 56,
   "id": "85831ea8",
   "metadata": {},
   "outputs": [],
   "source": [
    "from pyspark.sql import SparkSession\n",
    "\n",
    "spark = SparkSession \\\n",
    "        .builder \\\n",
    "        .getOrCreate()"
   ]
  },
  {
   "cell_type": "code",
   "execution_count": 57,
   "id": "b289f89d",
   "metadata": {
    "scrolled": true
   },
   "outputs": [
    {
     "name": "stdout",
     "output_type": "stream",
     "text": [
      "+------+-----------+----+---+\n",
      "|   _c0|        _c1| _c2|_c3|\n",
      "+------+-----------+----+---+\n",
      "|367855|172-in-addr|arpa|  1|\n",
      "|367856|       addr|arpa|  1|\n",
      "|367857|     amphic|arpa|  1|\n",
      "|367858|       beta|arpa|  1|\n",
      "|367859|     callic|arpa|  1|\n",
      "+------+-----------+----+---+\n",
      "only showing top 5 rows\n",
      "\n"
     ]
    }
   ],
   "source": [
    "# read csv file - it is stored as a DF as default\n",
    "common_crawl = spark.read \\\n",
    "               .option('format', 'csv') \\\n",
    "               .option('delimiter', '\\t') \\\n",
    "               .option('inferSchema', True) \\\n",
    "               .option('header', False) \\\n",
    "               .csv('./crawl/cc-main-limited-domains.csv')\n",
    "\n",
    "\n",
    "type(common_crawl)\n",
    "common_crawl.show(5)"
   ]
  },
  {
   "cell_type": "markdown",
   "id": "0da09d71",
   "metadata": {},
   "source": [
    "### Adjust data"
   ]
  },
  {
   "cell_type": "markdown",
   "id": "645e3c45",
   "metadata": {},
   "source": [
    "names of columns\n",
    "- site_id\n",
    "- domain\n",
    "- top_level_domain\n",
    "- num_subdomains"
   ]
  },
  {
   "cell_type": "code",
   "execution_count": 59,
   "id": "e6efa7af",
   "metadata": {},
   "outputs": [],
   "source": [
    "common_crawl = common_crawl.toDF('site_id', 'domain', 'top_level_domain', 'num_subdomains')"
   ]
  },
  {
   "cell_type": "code",
   "execution_count": 61,
   "id": "713345f4",
   "metadata": {},
   "outputs": [
    {
     "name": "stdout",
     "output_type": "stream",
     "text": [
      "+-------+-----------+----------------+--------------+\n",
      "|site_id|     domain|top_level_domain|num_subdomains|\n",
      "+-------+-----------+----------------+--------------+\n",
      "| 367855|172-in-addr|            arpa|             1|\n",
      "| 367856|       addr|            arpa|             1|\n",
      "| 367857|     amphic|            arpa|             1|\n",
      "| 367858|       beta|            arpa|             1|\n",
      "| 367859|     callic|            arpa|             1|\n",
      "+-------+-----------+----------------+--------------+\n",
      "only showing top 5 rows\n",
      "\n"
     ]
    },
    {
     "data": {
      "text/plain": [
       "StructType([StructField('site_id', IntegerType(), True), StructField('domain', StringType(), True), StructField('top_level_domain', StringType(), True), StructField('num_subdomains', IntegerType(), True)])"
      ]
     },
     "execution_count": 61,
     "metadata": {},
     "output_type": "execute_result"
    }
   ],
   "source": [
    "common_crawl.show(5)\n",
    "common_crawl.schema"
   ]
  },
  {
   "cell_type": "markdown",
   "id": "52b6074d",
   "metadata": {},
   "source": [
    "## Reading and Writing Datasets to Disk"
   ]
  },
  {
   "cell_type": "markdown",
   "id": "af8d5d97",
   "metadata": {},
   "source": [
    "### Save DF as parquet files"
   ]
  },
  {
   "cell_type": "code",
   "execution_count": 64,
   "id": "d6e2b105",
   "metadata": {},
   "outputs": [],
   "source": [
    "common_crawl.write.parquet('./results/common_crawl/')"
   ]
  },
  {
   "cell_type": "code",
   "execution_count": 66,
   "id": "7cea1aee",
   "metadata": {},
   "outputs": [
    {
     "name": "stdout",
     "output_type": "stream",
     "text": [
      "+-------+-----------+----------------+--------------+\n",
      "|site_id|     domain|top_level_domain|num_subdomains|\n",
      "+-------+-----------+----------------+--------------+\n",
      "| 367855|172-in-addr|            arpa|             1|\n",
      "| 367856|       addr|            arpa|             1|\n",
      "| 367857|     amphic|            arpa|             1|\n",
      "| 367858|       beta|            arpa|             1|\n",
      "| 367859|     callic|            arpa|             1|\n",
      "+-------+-----------+----------------+--------------+\n",
      "only showing top 5 rows\n",
      "\n"
     ]
    }
   ],
   "source": [
    "common_crawl_domains = spark.read.parquet('./results/common_crawl/')\n",
    "common_crawl_domains.show(5)"
   ]
  },
  {
   "cell_type": "markdown",
   "id": "0aaa42ce",
   "metadata": {},
   "source": [
    "## Query in Domain Counts with PySpark DataFrames and SQL"
   ]
  },
  {
   "cell_type": "markdown",
   "id": "aa56b6e5",
   "metadata": {},
   "source": [
    "### Create a temp view"
   ]
  },
  {
   "cell_type": "code",
   "execution_count": 68,
   "id": "d1fa5add",
   "metadata": {},
   "outputs": [],
   "source": [
    "common_crawl_domains.createOrReplaceTempView('common_crawl_domains_view')"
   ]
  },
  {
   "cell_type": "markdown",
   "id": "1948eef5",
   "metadata": {},
   "source": [
    "### Calculate the total number of domains for each top-level domain in the dataset"
   ]
  },
  {
   "cell_type": "code",
   "execution_count": 85,
   "id": "85d11f58",
   "metadata": {},
   "outputs": [
    {
     "name": "stdout",
     "output_type": "stream",
     "text": [
      "+----------------+-----+\n",
      "|top_level_domain|count|\n",
      "+----------------+-----+\n",
      "|          travel| 6313|\n",
      "|             map|   34|\n",
      "|             gov|15007|\n",
      "|             edu|18547|\n",
      "|            arpa|   11|\n",
      "|            jobs| 3893|\n",
      "|            post|  117|\n",
      "|            coop| 5319|\n",
      "+----------------+-----+\n",
      "\n"
     ]
    }
   ],
   "source": [
    "# Aggregate the DataFrame using DataFrame methods\n",
    "common_crawl_domains_total_number = common_crawl_domains.groupBy('top_level_domain').count()\n",
    "common_crawl_domains_total_number.show()"
   ]
  },
  {
   "cell_type": "code",
   "execution_count": 86,
   "id": "5a678d8e",
   "metadata": {},
   "outputs": [
    {
     "name": "stdout",
     "output_type": "stream",
     "text": [
      "+----------------+--------+\n",
      "|top_level_domain|count(1)|\n",
      "+----------------+--------+\n",
      "|travel          |6313    |\n",
      "|map             |34      |\n",
      "|gov             |15007   |\n",
      "|edu             |18547   |\n",
      "|arpa            |11      |\n",
      "|jobs            |3893    |\n",
      "|post            |117     |\n",
      "|coop            |5319    |\n",
      "+----------------+--------+\n",
      "\n"
     ]
    }
   ],
   "source": [
    "# Aggregate the DataFrame using SQL\n",
    "common_crawl_domains_total_number_query = \"\"\"SELECT top_level_domain, count(*)\n",
    "                                             FROM common_crawl_domains_view\n",
    "                                             GROUP BY 1\n",
    "                                          \"\"\"\n",
    "\n",
    "spark.sql(common_crawl_domains_total_number_query).show(truncate=False)"
   ]
  },
  {
   "cell_type": "markdown",
   "id": "8fd28cfb",
   "metadata": {},
   "source": [
    "### Calculate the total number of subdomains for each top-level domain in the dataset"
   ]
  },
  {
   "cell_type": "code",
   "execution_count": 89,
   "id": "60dffa80",
   "metadata": {},
   "outputs": [
    {
     "name": "stdout",
     "output_type": "stream",
     "text": [
      "+----------------+-------------------+\n",
      "|top_level_domain|sum(num_subdomains)|\n",
      "+----------------+-------------------+\n",
      "|          travel|              10768|\n",
      "|             map|                 40|\n",
      "|             gov|              85354|\n",
      "|             edu|             484438|\n",
      "|            arpa|                 17|\n",
      "|            jobs|               6023|\n",
      "|            post|                143|\n",
      "|            coop|               8683|\n",
      "+----------------+-------------------+\n",
      "\n"
     ]
    }
   ],
   "source": [
    "# Aggregate the DataFrame using DataFrame methods\n",
    "common_crawl_domains_total_number_subdomains = common_crawl_domains.groupBy('top_level_domain').sum('num_subdomains')\n",
    "common_crawl_domains_total_number_subdomains.show()"
   ]
  },
  {
   "cell_type": "code",
   "execution_count": 90,
   "id": "6404b2ab",
   "metadata": {},
   "outputs": [
    {
     "name": "stdout",
     "output_type": "stream",
     "text": [
      "+----------------+-------------------+\n",
      "|top_level_domain|sum(num_subdomains)|\n",
      "+----------------+-------------------+\n",
      "|travel          |10768              |\n",
      "|map             |40                 |\n",
      "|gov             |85354              |\n",
      "|edu             |484438             |\n",
      "|arpa            |17                 |\n",
      "|jobs            |6023               |\n",
      "|post            |143                |\n",
      "|coop            |8683               |\n",
      "+----------------+-------------------+\n",
      "\n"
     ]
    }
   ],
   "source": [
    "# Aggregate the DataFrame using SQL\n",
    "common_crawl_domains_total_number_query = \"\"\"SELECT top_level_domain, sum(num_subdomains)\n",
    "                                             FROM common_crawl_domains_view\n",
    "                                             GROUP BY 1\n",
    "                                          \"\"\"\n",
    "\n",
    "spark.sql(common_crawl_domains_total_number_query).show(truncate=False)"
   ]
  },
  {
   "cell_type": "markdown",
   "id": "8b7e0f28",
   "metadata": {},
   "source": [
    "### How many sub-domains does nps.gov have?"
   ]
  },
  {
   "cell_type": "code",
   "execution_count": 95,
   "id": "241e3151",
   "metadata": {},
   "outputs": [
    {
     "name": "stdout",
     "output_type": "stream",
     "text": [
      "+--------+------+----------------+--------------+\n",
      "| site_id|domain|top_level_domain|num_subdomains|\n",
      "+--------+------+----------------+--------------+\n",
      "|57661852|   nps|             gov|           178|\n",
      "+--------+------+----------------+--------------+\n",
      "\n"
     ]
    }
   ],
   "source": [
    "# Filter the DataFrame using DataFrame Methods\n",
    "common_crawl_domains_nps_gov = common_crawl_domains.filter(common_crawl_domains.top_level_domain == 'gov').filter(common_crawl_domains.domain == 'nps')\n",
    "common_crawl_domains_nps_gov.show()"
   ]
  },
  {
   "cell_type": "code",
   "execution_count": 96,
   "id": "137dbde7",
   "metadata": {},
   "outputs": [
    {
     "name": "stdout",
     "output_type": "stream",
     "text": [
      "+--------+------+----------------+--------------+\n",
      "|site_id |domain|top_level_domain|num_subdomains|\n",
      "+--------+------+----------------+--------------+\n",
      "|57661852|nps   |gov             |178           |\n",
      "+--------+------+----------------+--------------+\n",
      "\n"
     ]
    }
   ],
   "source": [
    "# Filter the DataFrame using SQL\n",
    "common_crawl_domains_nps_gov_query = \"\"\"\n",
    "                                     SELECT * FROM common_crawl_domains_view\n",
    "                                     WHERE domain = 'nps' and top_level_domain = 'gov'\n",
    "                                     \"\"\"\n",
    "\n",
    "spark.sql(common_crawl_domains_nps_gov_query).show(truncate=False)"
   ]
  },
  {
   "cell_type": "markdown",
   "id": "b411c8b9",
   "metadata": {},
   "source": [
    "### Stop the SparkSession"
   ]
  },
  {
   "cell_type": "code",
   "execution_count": 98,
   "id": "82b09aef",
   "metadata": {},
   "outputs": [],
   "source": [
    "spark.stop()"
   ]
  }
 ],
 "metadata": {
  "kernelspec": {
   "display_name": "Python 3 (ipykernel)",
   "language": "python",
   "name": "python3"
  },
  "language_info": {
   "codemirror_mode": {
    "name": "ipython",
    "version": 3
   },
   "file_extension": ".py",
   "mimetype": "text/x-python",
   "name": "python",
   "nbconvert_exporter": "python",
   "pygments_lexer": "ipython3",
   "version": "3.10.0"
  }
 },
 "nbformat": 4,
 "nbformat_minor": 5
}
