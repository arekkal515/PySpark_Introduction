{
 "cells": [
  {
   "cell_type": "markdown",
   "id": "d767add9",
   "metadata": {},
   "source": [
    "# Spark SQL - introduction"
   ]
  },
  {
   "cell_type": "markdown",
   "id": "39c48b31",
   "metadata": {},
   "source": [
    "## Initialize Spark SQl Session"
   ]
  },
  {
   "cell_type": "code",
   "execution_count": 11,
   "id": "55796262",
   "metadata": {},
   "outputs": [],
   "source": [
    "from pyspark.sql import SparkSession\n",
    "\n",
    "spark = SparkSession\\\n",
    "        .builder\\\n",
    "        .master('local[*]')\\\n",
    "        .config('spark.app.name', 'learning_spark_sql')\\\n",
    "        .getOrCreate()\n",
    "\n",
    "sample_page_views  = spark.sparkContext.parallelize([\n",
    "    [\"en\", \"Statue_of_Liberty\", \"2022-01-01\", 263],\n",
    "    [\"en\", \"Replicas_of_the_Statue_of_Liberty\", \"2022-01-01\", 11],\n",
    "    [\"en\", \"Statue_of_Lucille_Ball\" ,\"2022-01-01\", 6],\n",
    "    [\"en\", \"Statue_of_Liberty_National_Monument\", \"2022-01-01\", 4],\n",
    "    [\"en\", \"Statue_of_Liberty_play\"  ,\"2022-01-01\", 3],  \n",
    "])"
   ]
  },
  {
   "cell_type": "code",
   "execution_count": 12,
   "id": "c95fa7f6",
   "metadata": {},
   "outputs": [
    {
     "data": {
      "text/plain": [
       "pyspark.sql.session.SparkSession"
      ]
     },
     "execution_count": 12,
     "metadata": {},
     "output_type": "execute_result"
    }
   ],
   "source": [
    "type(spark)"
   ]
  },
  {
   "cell_type": "code",
   "execution_count": 13,
   "id": "d17e9546",
   "metadata": {},
   "outputs": [
    {
     "data": {
      "text/plain": [
       "pyspark.context.SparkContext"
      ]
     },
     "execution_count": 13,
     "metadata": {},
     "output_type": "execute_result"
    }
   ],
   "source": [
    "type(spark.sparkContext)"
   ]
  },
  {
   "cell_type": "markdown",
   "id": "480ca1ec",
   "metadata": {},
   "source": [
    "## DataFrames"
   ]
  },
  {
   "cell_type": "code",
   "execution_count": 16,
   "id": "1b6799d5",
   "metadata": {},
   "outputs": [
    {
     "name": "stdout",
     "output_type": "stream",
     "text": [
      "+-------------+-----------------------------------+----------+-----+\n",
      "|language_code|title                              |date      |count|\n",
      "+-------------+-----------------------------------+----------+-----+\n",
      "|en           |Statue_of_Liberty                  |2022-01-01|263  |\n",
      "|en           |Replicas_of_the_Statue_of_Liberty  |2022-01-01|11   |\n",
      "|en           |Statue_of_Lucille_Ball             |2022-01-01|6    |\n",
      "|en           |Statue_of_Liberty_National_Monument|2022-01-01|4    |\n",
      "|en           |Statue_of_Liberty_play             |2022-01-01|3    |\n",
      "+-------------+-----------------------------------+----------+-----+\n",
      "\n"
     ]
    }
   ],
   "source": [
    "# Create a DataFrame from sample_page_views\n",
    "sample_page_views_df = sample_page_views.toDF([\"language_code\", \"title\", \"date\", \"count\"])\n",
    "\n",
    "# Show first 5 rows\n",
    "sample_page_views_df.show(5, truncate=False)"
   ]
  },
  {
   "cell_type": "code",
   "execution_count": 17,
   "id": "44a2a31c",
   "metadata": {},
   "outputs": [
    {
     "data": {
      "text/plain": [
       "[Row(language_code='en', title='Statue_of_Liberty', date='2022-01-01', count=263),\n",
       " Row(language_code='en', title='Replicas_of_the_Statue_of_Liberty', date='2022-01-01', count=11),\n",
       " Row(language_code='en', title='Statue_of_Lucille_Ball', date='2022-01-01', count=6),\n",
       " Row(language_code='en', title='Statue_of_Liberty_National_Monument', date='2022-01-01', count=4),\n",
       " Row(language_code='en', title='Statue_of_Liberty_play', date='2022-01-01', count=3)]"
      ]
     },
     "execution_count": 17,
     "metadata": {},
     "output_type": "execute_result"
    }
   ],
   "source": [
    "# Access he RDD\n",
    "sample_page_views_rdd_restored = sample_page_views_df.rdd\n",
    "\n",
    "# show restored RDD\n",
    "sample_page_views_rdd_restored.collect()"
   ]
  },
  {
   "cell_type": "markdown",
   "id": "a3f74cbd",
   "metadata": {},
   "source": [
    "## Create DataFrame from External Source"
   ]
  },
  {
   "cell_type": "code",
   "execution_count": 27,
   "id": "55474ca8",
   "metadata": {},
   "outputs": [],
   "source": [
    "# Create DataFrame from csv\n",
    "csv_data_df = spark.read\\\n",
    "              .option('header', True) \\\n",
    "              .option('delimiter', ';') \\\n",
    "              .option('inferSchema', True) \\\n",
    "              .csv('csv_sample.csv')"
   ]
  },
  {
   "cell_type": "markdown",
   "id": "a7daca2e",
   "metadata": {},
   "source": [
    "inferSchema\n",
    "- True - Spark will automatically go through the csv file and infer the schema of each column\n",
    "- False - Spark will give a dataframe where all columns are strings (StringType)"
   ]
  },
  {
   "cell_type": "code",
   "execution_count": 28,
   "id": "610daca2",
   "metadata": {},
   "outputs": [
    {
     "name": "stdout",
     "output_type": "stream",
     "text": [
      "+---------------------+---------------------+---------------------+\n",
      "|Animal               |Average Length (Feet)|Average Weight (Tons)|\n",
      "+---------------------+---------------------+---------------------+\n",
      "|African Bush Elephant|19,70                |5,40                 |\n",
      "|Indian Rhinoceros    |13,80                |2,10                 |\n",
      "|Hippopotamus         |16,50                |2,00                 |\n",
      "|Giraffe              |16,90                |1,10                 |\n",
      "|Gaur                 |12,50                |1,00                 |\n",
      "+---------------------+---------------------+---------------------+\n",
      "\n"
     ]
    }
   ],
   "source": [
    "# check your csv file\n",
    "csv_data_df.show(5, truncate=False)"
   ]
  },
  {
   "cell_type": "code",
   "execution_count": 29,
   "id": "81de4346",
   "metadata": {},
   "outputs": [
    {
     "data": {
      "text/plain": [
       "[('Animal', 'string'),\n",
       " ('Average Length (Feet)', 'string'),\n",
       " ('Average Weight (Tons)', 'string')]"
      ]
     },
     "execution_count": 29,
     "metadata": {},
     "output_type": "execute_result"
    }
   ],
   "source": [
    "# check the data types\n",
    "csv_data_df.dtypes"
   ]
  },
  {
   "cell_type": "markdown",
   "id": "abb42696",
   "metadata": {},
   "source": [
    "## Validation and cleaning data"
   ]
  },
  {
   "cell_type": "code",
   "execution_count": 31,
   "id": "ce31a1d8",
   "metadata": {},
   "outputs": [
    {
     "name": "stdout",
     "output_type": "stream",
     "text": [
      "root\n",
      " |-- Animal: string (nullable = true)\n",
      " |-- Average Length (Feet): string (nullable = true)\n",
      " |-- Average Weight (Tons): string (nullable = true)\n",
      "\n"
     ]
    }
   ],
   "source": [
    "# what is schema of the file?\n",
    "csv_data_df.printSchema()"
   ]
  },
  {
   "cell_type": "code",
   "execution_count": 33,
   "id": "3f89c27c",
   "metadata": {
    "scrolled": true
   },
   "outputs": [
    {
     "name": "stdout",
     "output_type": "stream",
     "text": [
      "+-------+---------------------+---------------------+---------------------+\n",
      "|summary|Animal               |Average Length (Feet)|Average Weight (Tons)|\n",
      "+-------+---------------------+---------------------+---------------------+\n",
      "|count  |5                    |5                    |5                    |\n",
      "|mean   |NULL                 |NULL                 |NULL                 |\n",
      "|stddev |NULL                 |NULL                 |NULL                 |\n",
      "|min    |African Bush Elephant|12,50                |1,00                 |\n",
      "|max    |Indian Rhinoceros    |19,70                |5,40                 |\n",
      "+-------+---------------------+---------------------+---------------------+\n",
      "\n"
     ]
    }
   ],
   "source": [
    "# d\n",
    "csv_data_desc = csv_data_df.describe()\n",
    "csv_data_desc.show(truncate=False)"
   ]
  },
  {
   "cell_type": "code",
   "execution_count": 38,
   "id": "cdf5f3c8",
   "metadata": {},
   "outputs": [
    {
     "name": "stdout",
     "output_type": "stream",
     "text": [
      "+-------+--------------------+---------------------+---------------------+\n",
      "|summary|              Animal|Average Length (Feet)|Average Weight (Tons)|\n",
      "+-------+--------------------+---------------------+---------------------+\n",
      "|  count|                   5|                    5|                    5|\n",
      "|   mean|                NULL|                 NULL|                 NULL|\n",
      "| stddev|                NULL|                 NULL|                 NULL|\n",
      "|    min|African Bush Elep...|                12,50|                 1,00|\n",
      "|    max|   Indian Rhinoceros|                19,70|                 5,40|\n",
      "+-------+--------------------+---------------------+---------------------+\n",
      "\n"
     ]
    }
   ],
   "source": [
    "# drop column\n",
    "csv_data_desc.drop('Average Length (Feet)')\n",
    "csv_data_desc.show()"
   ]
  }
 ],
 "metadata": {
  "kernelspec": {
   "display_name": "Python 3 (ipykernel)",
   "language": "python",
   "name": "python3"
  },
  "language_info": {
   "codemirror_mode": {
    "name": "ipython",
    "version": 3
   },
   "file_extension": ".py",
   "mimetype": "text/x-python",
   "name": "python",
   "nbconvert_exporter": "python",
   "pygments_lexer": "ipython3",
   "version": "3.10.0"
  }
 },
 "nbformat": 4,
 "nbformat_minor": 5
}
