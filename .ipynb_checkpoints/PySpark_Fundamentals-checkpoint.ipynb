{
 "cells": [
  {
   "cell_type": "markdown",
   "id": "c5f3ea8e",
   "metadata": {},
   "source": [
    "https://www.codecademy.com/courses/big-data-pyspark/lessons/pyspark-rdd-lesson/exercises/start-coding-with-pyspark"
   ]
  },
  {
   "cell_type": "markdown",
   "id": "71e4e604",
   "metadata": {},
   "source": [
    "# PySpark - start coding"
   ]
  },
  {
   "cell_type": "markdown",
   "id": "2a5b44a3",
   "metadata": {},
   "source": [
    "## SparkSession - entry point to Spark"
   ]
  },
  {
   "cell_type": "code",
   "execution_count": 1,
   "id": "3cefe2bc",
   "metadata": {},
   "outputs": [],
   "source": [
    "from pyspark.sql import SparkSession\n",
    "student_data = [(\"Chris\",1523,0.72,\"CA\"),\n",
    "                (\"Jake\", 1555,0.83,\"NY\"),\n",
    "                (\"Cody\", 1439,0.92,\"CA\"),\n",
    "                (\"Lisa\",1442,0.81,\"FL\"),\n",
    "                (\"Daniel\",1600,0.88,\"TX\"),\n",
    "                (\"Kelvin\",1382,0.99,\"FL\"),\n",
    "                (\"Nancy\",1442,0.74,\"TX\"),\n",
    "                (\"Pavel\",1599,0.82,\"NY\"),\n",
    "                (\"Josh\",1482,0.78,\"CA\"),\n",
    "                (\"Cynthia\",1582,0.94,\"CA\")]"
   ]
  },
  {
   "cell_type": "code",
   "execution_count": 2,
   "id": "50989ac1",
   "metadata": {},
   "outputs": [],
   "source": [
    "# start a SparkSession and assign it the name spark\n",
    "spark = SparkSession.builder.getOrCreate()"
   ]
  },
  {
   "cell_type": "markdown",
   "id": "a9cf6e85",
   "metadata": {},
   "source": [
    "## change data into RDD"
   ]
  },
  {
   "cell_type": "code",
   "execution_count": 3,
   "id": "5e2069af",
   "metadata": {},
   "outputs": [
    {
     "data": {
      "text/plain": [
       "[('Chris', 1523, 0.72, 'CA'),\n",
       " ('Jake', 1555, 0.83, 'NY'),\n",
       " ('Cody', 1439, 0.92, 'CA'),\n",
       " ('Lisa', 1442, 0.81, 'FL'),\n",
       " ('Daniel', 1600, 0.88, 'TX'),\n",
       " ('Kelvin', 1382, 0.99, 'FL'),\n",
       " ('Nancy', 1442, 0.74, 'TX'),\n",
       " ('Pavel', 1599, 0.82, 'NY'),\n",
       " ('Josh', 1482, 0.78, 'CA'),\n",
       " ('Cynthia', 1582, 0.94, 'CA')]"
      ]
     },
     "execution_count": 3,
     "metadata": {},
     "output_type": "execute_result"
    }
   ],
   "source": [
    "# data can be stored on a distributed file system or just on our local machine\n",
    "# default number of partiions is the number of CPU cores on our local machine\n",
    "student_rdd = spark.sparkContext.parallelize(student_data, 5)\n",
    "\n",
    "# check your data\n",
    "student_rdd.collect()"
   ]
  },
  {
   "cell_type": "code",
   "execution_count": 4,
   "id": "e92300e5",
   "metadata": {},
   "outputs": [
    {
     "data": {
      "text/plain": [
       "5"
      ]
     },
     "execution_count": 4,
     "metadata": {},
     "output_type": "execute_result"
    }
   ],
   "source": [
    "# check how many partitions we created\n",
    "student_rdd.getNumPartitions()"
   ]
  },
  {
   "cell_type": "markdown",
   "id": "dd480193",
   "metadata": {},
   "source": [
    "## transform the data"
   ]
  },
  {
   "cell_type": "code",
   "execution_count": 5,
   "id": "147b7e8a",
   "metadata": {
    "scrolled": true
   },
   "outputs": [
    {
     "data": {
      "text/plain": [
       "[('Chris', 1523, 72.0, 'CA'),\n",
       " ('Jake', 1555, 83.0, 'NY'),\n",
       " ('Cody', 1439, 92.0, 'CA'),\n",
       " ('Lisa', 1442, 81.0, 'FL'),\n",
       " ('Daniel', 1600, 88.0, 'TX'),\n",
       " ('Kelvin', 1382, 99.0, 'FL'),\n",
       " ('Nancy', 1442, 74.0, 'TX'),\n",
       " ('Pavel', 1599, 82.0, 'NY'),\n",
       " ('Josh', 1482, 78.0, 'CA'),\n",
       " ('Cynthia', 1582, 94.0, 'CA')]"
      ]
     },
     "execution_count": 5,
     "metadata": {},
     "output_type": "execute_result"
    }
   ],
   "source": [
    "# convert data in the third column from decimals to whole numbers\n",
    "# sabe a new RDD as rdd_transformation\n",
    "rdd_transform = student_rdd.map(lambda x: (x[0], x[1], x[2] * 100, x[3]))\n",
    "\n",
    "# check your data\n",
    "rdd_transform.collect()"
   ]
  },
  {
   "cell_type": "markdown",
   "id": "5988bfa3",
   "metadata": {},
   "source": [
    "## filter the data"
   ]
  },
  {
   "cell_type": "code",
   "execution_count": 6,
   "id": "112cc606",
   "metadata": {},
   "outputs": [
    {
     "data": {
      "text/plain": [
       "[('Jake', 1555, 83.0, 'NY'),\n",
       " ('Cody', 1439, 92.0, 'CA'),\n",
       " ('Lisa', 1442, 81.0, 'FL'),\n",
       " ('Daniel', 1600, 88.0, 'TX'),\n",
       " ('Kelvin', 1382, 99.0, 'FL'),\n",
       " ('Pavel', 1599, 82.0, 'NY'),\n",
       " ('Cynthia', 1582, 94.0, 'CA')]"
      ]
     },
     "execution_count": 6,
     "metadata": {},
     "output_type": "execute_result"
    }
   ],
   "source": [
    "# filter data to just those rows with grades above 80\n",
    "rdd_filtered = rdd_transform.filter(lambda x: x[2] > 80)\n",
    "rdd_filtered.collect()"
   ]
  },
  {
   "cell_type": "markdown",
   "id": "f9ca2506",
   "metadata": {},
   "source": [
    "## actions"
   ]
  },
  {
   "cell_type": "code",
   "execution_count": 7,
   "id": "49be0d7c",
   "metadata": {},
   "outputs": [
    {
     "data": {
      "text/plain": [
       "[('Jake', 1555, 83.0, 'NY'),\n",
       " ('Cody', 1439, 92.0, 'CA'),\n",
       " ('Lisa', 1442, 81.0, 'FL'),\n",
       " ('Daniel', 1600, 88.0, 'TX'),\n",
       " ('Kelvin', 1382, 99.0, 'FL')]"
      ]
     },
     "execution_count": 7,
     "metadata": {},
     "output_type": "execute_result"
    }
   ],
   "source": [
    "# show only first 5 elements of rdd_filtered\n",
    "rdd_filtered.take(5)"
   ]
  },
  {
   "cell_type": "code",
   "execution_count": 8,
   "id": "1568c559",
   "metadata": {},
   "outputs": [
    {
     "data": {
      "text/plain": [
       "843.0"
      ]
     },
     "execution_count": 8,
     "metadata": {},
     "output_type": "execute_result"
    }
   ],
   "source": [
    "# calculate the sum of grades in rdd_filtered\n",
    "sum_gpa = rdd_transform.map(lambda x: x[2]).reduce(lambda x,y: x+y)\n",
    "sum_gpa"
   ]
  },
  {
   "cell_type": "code",
   "execution_count": 9,
   "id": "a9cb9a87",
   "metadata": {},
   "outputs": [
    {
     "data": {
      "text/plain": [
       "84.3"
      ]
     },
     "execution_count": 9,
     "metadata": {},
     "output_type": "execute_result"
    }
   ],
   "source": [
    "# calculate the average\n",
    "sum_gpa / rdd_transform.count()"
   ]
  },
  {
   "cell_type": "markdown",
   "id": "065fee64",
   "metadata": {},
   "source": [
    "## glom function"
   ]
  },
  {
   "cell_type": "code",
   "execution_count": null,
   "id": "4fc537e0",
   "metadata": {},
   "outputs": [],
   "source": [
    "# glom function - we can check how our data is partitioned and what the result of math operations is"
   ]
  },
  {
   "cell_type": "code",
   "execution_count": 10,
   "id": "8b6bd38a",
   "metadata": {},
   "outputs": [
    {
     "name": "stdout",
     "output_type": "stream",
     "text": [
      "partition:  [[1, 2, 3, 4, 5]]\n",
      "addition:  15\n",
      "partition:  [[1, 2], [3, 4, 5]]\n",
      "addition:  15\n",
      "partition:  [[1], [2, 3], [4, 5]]\n",
      "addition:  15\n",
      "partition:  [[1], [2], [3], [4, 5]]\n",
      "addition:  15\n"
     ]
    }
   ],
   "source": [
    "data = [1,2,3,4,5]\n",
    "for i in range(1,5):\n",
    "    rdd = spark.sparkContext.parallelize(data, i)\n",
    "    print('partition: ', rdd.glom().collect())\n",
    "    print('addition: ', rdd.reduce(lambda a,b: a+b))"
   ]
  },
  {
   "cell_type": "code",
   "execution_count": 11,
   "id": "5aa4466c",
   "metadata": {},
   "outputs": [
    {
     "name": "stdout",
     "output_type": "stream",
     "text": [
      "partition:  [[1, 2, 3, 4, 5]]\n",
      "division:  0.008333333333333333\n",
      "partition:  [[1, 2], [3, 4, 5]]\n",
      "division:  3.3333333333333335\n",
      "partition:  [[1], [2, 3], [4, 5]]\n",
      "division:  1.875\n",
      "partition:  [[1], [2], [3], [4, 5]]\n",
      "division:  0.20833333333333331\n"
     ]
    }
   ],
   "source": [
    "for i in range(1,5):\n",
    "    rdd = spark.sparkContext.parallelize(data, i)\n",
    "    print('partition: ', rdd.glom().collect())\n",
    "    print('division: ', rdd.reduce(lambda a,b: a/b))"
   ]
  },
  {
   "cell_type": "markdown",
   "id": "b77dc6b4",
   "metadata": {},
   "source": [
    "Conclusions - reduce() must be **commutative** and **associative**"
   ]
  },
  {
   "cell_type": "markdown",
   "id": "a24d2f22",
   "metadata": {},
   "source": [
    "## broadcast variables"
   ]
  },
  {
   "cell_type": "code",
   "execution_count": 12,
   "id": "e063402e",
   "metadata": {},
   "outputs": [],
   "source": [
    "# create dictionary of states\n",
    "states = {\"NY\": \"New York\", \"CA\": \"California\",\n",
    "         \"TX\": \"Texas\", \"FL\": \"Florida\"}"
   ]
  },
  {
   "cell_type": "code",
   "execution_count": 13,
   "id": "823223c1",
   "metadata": {},
   "outputs": [
    {
     "data": {
      "text/plain": [
       "pyspark.broadcast.Broadcast"
      ]
     },
     "execution_count": 13,
     "metadata": {},
     "output_type": "execute_result"
    }
   ],
   "source": [
    "# broadcast the dictionary to Spark Cluster\n",
    "broadcastStates = spark.sparkContext.broadcast(states)\n",
    "type(broadcastStates)"
   ]
  },
  {
   "cell_type": "code",
   "execution_count": 14,
   "id": "26fc4a80",
   "metadata": {},
   "outputs": [
    {
     "data": {
      "text/plain": [
       "[('Chris', 1523, 0.72, 'California'),\n",
       " ('Jake', 1555, 0.83, 'New York'),\n",
       " ('Cody', 1439, 0.92, 'California'),\n",
       " ('Lisa', 1442, 0.81, 'Florida'),\n",
       " ('Daniel', 1600, 0.88, 'Texas'),\n",
       " ('Kelvin', 1382, 0.99, 'Florida'),\n",
       " ('Nancy', 1442, 0.74, 'Texas'),\n",
       " ('Pavel', 1599, 0.82, 'New York'),\n",
       " ('Josh', 1482, 0.78, 'California'),\n",
       " ('Cynthia', 1582, 0.94, 'California')]"
      ]
     },
     "execution_count": 14,
     "metadata": {},
     "output_type": "execute_result"
    }
   ],
   "source": [
    "rdd_broadcast = student_rdd.map(lambda x: (x[0], x[1], x[2], broadcastStates.value[x[3]]))\n",
    "rdd_broadcast.collect()"
   ]
  },
  {
   "cell_type": "markdown",
   "id": "663663ce",
   "metadata": {},
   "source": [
    "## Accumulator variables"
   ]
  },
  {
   "cell_type": "markdown",
   "id": "4dcf7755",
   "metadata": {},
   "source": [
    "Accumulator variables\n",
    "- can be **updated**\n",
    "- primarily used as counters or sums\n",
    "- they are similar to the sum and count functions in NumPy"
   ]
  },
  {
   "cell_type": "code",
   "execution_count": 26,
   "id": "8f12ca5a",
   "metadata": {},
   "outputs": [
    {
     "data": {
      "text/plain": [
       "pyspark.accumulators.Accumulator"
      ]
     },
     "execution_count": 26,
     "metadata": {},
     "output_type": "execute_result"
    }
   ],
   "source": [
    "# create the accumaulator variable starting at 0\n",
    "sat_1500 = spark.sparkContext.accumulator(0)\n",
    "type(sat_1500)"
   ]
  },
  {
   "cell_type": "code",
   "execution_count": 27,
   "id": "8f49be72",
   "metadata": {},
   "outputs": [
    {
     "name": "stdout",
     "output_type": "stream",
     "text": [
      "<function count_high_sat_score at 0x0000011237B91360>\n"
     ]
    }
   ],
   "source": [
    "# create a function that increments our accumulator by 1 whenever it encounters a score of over 1500\n",
    "def count_high_sat_score(x):\n",
    "    if x > 1500:\n",
    "        sat_1500.add(1)\n",
    "        \n",
    "print(count_high_sat_score)"
   ]
  },
  {
   "cell_type": "code",
   "execution_count": 28,
   "id": "27e2e4f7",
   "metadata": {},
   "outputs": [
    {
     "name": "stdout",
     "output_type": "stream",
     "text": [
      "5\n"
     ]
    }
   ],
   "source": [
    "# call a function count_high_sat_scorethat will apply the function to each element in rdd_broadcast\n",
    "rdd_broadcast.foreach(lambda x: count_high_sat_score(x[1]))\n",
    "print(sat_1500)"
   ]
  }
 ],
 "metadata": {
  "kernelspec": {
   "display_name": "Python 3 (ipykernel)",
   "language": "python",
   "name": "python3"
  },
  "language_info": {
   "codemirror_mode": {
    "name": "ipython",
    "version": 3
   },
   "file_extension": ".py",
   "mimetype": "text/x-python",
   "name": "python",
   "nbconvert_exporter": "python",
   "pygments_lexer": "ipython3",
   "version": "3.10.0"
  }
 },
 "nbformat": 4,
 "nbformat_minor": 5
}
