{
 "cells": [
  {
   "cell_type": "markdown",
   "id": "e4f7c73d",
   "metadata": {},
   "source": [
    "# Analyzing Wikipedia Clickstreams with PySpark"
   ]
  },
  {
   "cell_type": "markdown",
   "id": "a91ba327",
   "metadata": {},
   "source": [
    "https://www.codecademy.com/courses/big-data-pyspark/projects/analyzing-wikipedia-pyspark\n",
    "\n",
    "In order to read a csv file locally:\n",
    "1. Download Windows binaries for Hadoop versions (winutils) https://github.com/steveloughran/winutils\n",
    "2. Extract files to a new folder\n",
    "3. Add a folder to the PATH in environmental variables\n"
   ]
  },
  {
   "cell_type": "code",
   "execution_count": 71,
   "id": "2b41ab5c",
   "metadata": {},
   "outputs": [],
   "source": [
    "from pyspark.sql import SparkSession"
   ]
  },
  {
   "cell_type": "markdown",
   "id": "72b51eb4",
   "metadata": {},
   "source": [
    "## Introduction to Clickstream Data"
   ]
  },
  {
   "cell_type": "markdown",
   "id": "a20834ac",
   "metadata": {},
   "source": [
    "### Create a new SparkSession"
   ]
  },
  {
   "cell_type": "code",
   "execution_count": 72,
   "id": "b89cba07",
   "metadata": {},
   "outputs": [],
   "source": [
    "spark = SparkSession.builder.getOrCreate()"
   ]
  },
  {
   "cell_type": "markdown",
   "id": "9e9952c7",
   "metadata": {},
   "source": [
    "### Create an RDD from a list of sample clickstream counts"
   ]
  },
  {
   "cell_type": "code",
   "execution_count": 73,
   "id": "71316359",
   "metadata": {},
   "outputs": [
    {
     "data": {
      "text/plain": [
       "[['other-search', 'Hanging_Gardens_of_Babylon', 'external', 47000],\n",
       " ['other-empty', 'Hanging_Gardens_of_Babylon', 'external', 34600],\n",
       " ['Wonders_of_the_World', 'Hanging_Gardens_of_Babylon', 'link', 14000],\n",
       " ['Babylon', 'Hanging_Gardens_of_Babylon', 'link', 2500]]"
      ]
     },
     "execution_count": 73,
     "metadata": {},
     "output_type": "execute_result"
    }
   ],
   "source": [
    "# Sample clickstream counts\n",
    "sample_clickstream_counts = [\n",
    "    [\"other-search\", \"Hanging_Gardens_of_Babylon\", \"external\", 47000],\n",
    "    [\"other-empty\", \"Hanging_Gardens_of_Babylon\", \"external\", 34600],\n",
    "    [\"Wonders_of_the_World\", \"Hanging_Gardens_of_Babylon\", \"link\", 14000],\n",
    "    [\"Babylon\", \"Hanging_Gardens_of_Babylon\", \"link\", 2500]\n",
    "]\n",
    "\n",
    "# Create RDD from sample data\n",
    "clickstream_counts_rdd = spark.sparkContext.parallelize(sample_clickstream_counts, 5)\n",
    "\n",
    "# check data\n",
    "clickstream_counts_rdd.collect()"
   ]
  },
  {
   "cell_type": "markdown",
   "id": "eafa23c3",
   "metadata": {},
   "source": [
    "### Create a DataFrame from the RDD"
   ]
  },
  {
   "cell_type": "code",
   "execution_count": 74,
   "id": "4cd766f6",
   "metadata": {},
   "outputs": [
    {
     "name": "stdout",
     "output_type": "stream",
     "text": [
      "+--------------------+--------------------------+--------+-----+\n",
      "|_1                  |_2                        |_3      |_4   |\n",
      "+--------------------+--------------------------+--------+-----+\n",
      "|other-search        |Hanging_Gardens_of_Babylon|external|47000|\n",
      "|other-empty         |Hanging_Gardens_of_Babylon|external|34600|\n",
      "|Wonders_of_the_World|Hanging_Gardens_of_Babylon|link    |14000|\n",
      "|Babylon             |Hanging_Gardens_of_Babylon|link    |2500 |\n",
      "+--------------------+--------------------------+--------+-----+\n",
      "\n"
     ]
    }
   ],
   "source": [
    "# Create a DataFrame\n",
    "clickstream_sample_df = clickstream_counts_rdd.toDF()\n",
    "\n",
    "# Display the DataFrame\n",
    "clickstream_sample_df.show(truncate=False)"
   ]
  },
  {
   "cell_type": "markdown",
   "id": "a4d31377",
   "metadata": {},
   "source": [
    "## Inspecting Clickstream Data"
   ]
  },
  {
   "cell_type": "markdown",
   "id": "da0d1ea2",
   "metadata": {},
   "source": [
    "### Read the csv file and save as a new DataFrame"
   ]
  },
  {
   "cell_type": "code",
   "execution_count": 75,
   "id": "24127129",
   "metadata": {
    "scrolled": true
   },
   "outputs": [
    {
     "name": "stdout",
     "output_type": "stream",
     "text": [
      "+-------------------+--------------------+-------------+-------------+-----------+\n",
      "|           referrer|            resource|link_category|language_code|click_count|\n",
      "+-------------------+--------------------+-------------+-------------+-----------+\n",
      "|   Daniel_Day-Lewis|      Phantom_Thread|         link|           en|      43190|\n",
      "|     other-internal|      Phantom_Thread|     external|           en|      21683|\n",
      "|        other-empty|      Phantom_Thread|     external|           en|     169532|\n",
      "|90th_Academy_Awards|      Phantom_Thread|         link|           en|      40449|\n",
      "|       other-search|      Phantom_Thread|     external|           en|     536940|\n",
      "|       other-search|Tara_Grinstead_mu...|     external|           en|      30041|\n",
      "|       other-search|      Yossi_Benayoun|     external|           en|      11045|\n",
      "|        other-empty|       Parthiv_Patel|     external|           en|      11481|\n",
      "|       other-search|       Parthiv_Patel|     external|           en|      34953|\n",
      "|        other-empty|   Cosimo_de'_Medici|     external|           en|      16418|\n",
      "|       other-search|   Cosimo_de'_Medici|     external|           en|      22190|\n",
      "|       other-search|University_of_Geo...|     external|           en|      29963|\n",
      "|        other-empty|University_of_Geo...|     external|           en|      17325|\n",
      "|       other-search|Carbon_monoxide_d...|     external|           en|      13617|\n",
      "|        other-empty|      Marissa_Ribisi|     external|           en|      18979|\n",
      "|             Shinee|Kim_Jong-hyun_(si...|         link|           en|      24433|\n",
      "|       other-search|Kim_Jong-hyun_(si...|     external|           en|     162466|\n",
      "|        other-empty|Kim_Jong-hyun_(si...|     external|           en|      60193|\n",
      "|        other-empty|         Hello_Kitty|     external|           en|      10674|\n",
      "|       other-search|         Hello_Kitty|     external|           en|      23726|\n",
      "+-------------------+--------------------+-------------+-------------+-----------+\n",
      "only showing top 20 rows\n",
      "\n"
     ]
    }
   ],
   "source": [
    "clickstream =  spark.read \\\n",
    "                .option('header', True) \\\n",
    "                .option('delimiter', '\\t') \\\n",
    "                .option('inferSchema', True) \\\n",
    "                .csv('./cleaned/clickstream/')\n",
    "\n",
    "clickstream.show()"
   ]
  },
  {
   "cell_type": "markdown",
   "id": "f4b5e71d",
   "metadata": {},
   "source": [
    "### Display the schema"
   ]
  },
  {
   "cell_type": "code",
   "execution_count": 76,
   "id": "0881f302",
   "metadata": {
    "scrolled": true
   },
   "outputs": [
    {
     "data": {
      "text/plain": [
       "StructType([StructField('referrer', StringType(), True), StructField('resource', StringType(), True), StructField('link_category', StringType(), True), StructField('language_code', StringType(), True), StructField('click_count', IntegerType(), True)])"
      ]
     },
     "execution_count": 76,
     "metadata": {},
     "output_type": "execute_result"
    }
   ],
   "source": [
    "clickstream.schema"
   ]
  },
  {
   "cell_type": "markdown",
   "id": "aad58e1b",
   "metadata": {},
   "source": [
    "### Data modifications"
   ]
  },
  {
   "cell_type": "markdown",
   "id": "ee1f2d95",
   "metadata": {},
   "source": [
    "#### Drop columns"
   ]
  },
  {
   "cell_type": "code",
   "execution_count": 77,
   "id": "a25e2d96",
   "metadata": {
    "scrolled": true
   },
   "outputs": [
    {
     "name": "stdout",
     "output_type": "stream",
     "text": [
      "+-------------------+--------------------+-------------+-----------+\n",
      "|           referrer|            resource|link_category|click_count|\n",
      "+-------------------+--------------------+-------------+-----------+\n",
      "|   Daniel_Day-Lewis|      Phantom_Thread|         link|      43190|\n",
      "|     other-internal|      Phantom_Thread|     external|      21683|\n",
      "|        other-empty|      Phantom_Thread|     external|     169532|\n",
      "|90th_Academy_Awards|      Phantom_Thread|         link|      40449|\n",
      "|       other-search|      Phantom_Thread|     external|     536940|\n",
      "|       other-search|Tara_Grinstead_mu...|     external|      30041|\n",
      "|       other-search|      Yossi_Benayoun|     external|      11045|\n",
      "|        other-empty|       Parthiv_Patel|     external|      11481|\n",
      "|       other-search|       Parthiv_Patel|     external|      34953|\n",
      "|        other-empty|   Cosimo_de'_Medici|     external|      16418|\n",
      "|       other-search|   Cosimo_de'_Medici|     external|      22190|\n",
      "|       other-search|University_of_Geo...|     external|      29963|\n",
      "|        other-empty|University_of_Geo...|     external|      17325|\n",
      "|       other-search|Carbon_monoxide_d...|     external|      13617|\n",
      "|        other-empty|      Marissa_Ribisi|     external|      18979|\n",
      "|             Shinee|Kim_Jong-hyun_(si...|         link|      24433|\n",
      "|       other-search|Kim_Jong-hyun_(si...|     external|     162466|\n",
      "|        other-empty|Kim_Jong-hyun_(si...|     external|      60193|\n",
      "|        other-empty|         Hello_Kitty|     external|      10674|\n",
      "|       other-search|         Hello_Kitty|     external|      23726|\n",
      "+-------------------+--------------------+-------------+-----------+\n",
      "only showing top 20 rows\n",
      "\n"
     ]
    }
   ],
   "source": [
    "clickstream = clickstream.drop('language_code')\n",
    "clickstream.show()"
   ]
  },
  {
   "cell_type": "markdown",
   "id": "ccd024df",
   "metadata": {},
   "source": [
    "#### Rename columns"
   ]
  },
  {
   "cell_type": "code",
   "execution_count": 78,
   "id": "d81ebd2e",
   "metadata": {},
   "outputs": [],
   "source": [
    "clickstream = clickstream.withColumnRenamed('referrer', 'source_page') \\\n",
    "                         .withColumnRenamed('resource', 'target_page')"
   ]
  },
  {
   "cell_type": "code",
   "execution_count": 79,
   "id": "18caf14a",
   "metadata": {
    "scrolled": true
   },
   "outputs": [
    {
     "data": {
      "text/plain": [
       "StructType([StructField('source_page', StringType(), True), StructField('target_page', StringType(), True), StructField('link_category', StringType(), True), StructField('click_count', IntegerType(), True)])"
      ]
     },
     "execution_count": 79,
     "metadata": {},
     "output_type": "execute_result"
    }
   ],
   "source": [
    "clickstream.schema"
   ]
  },
  {
   "cell_type": "markdown",
   "id": "982c9d6c",
   "metadata": {},
   "source": [
    "## Querying Clickstream Data"
   ]
  },
  {
   "cell_type": "markdown",
   "id": "6214c0c5",
   "metadata": {},
   "source": [
    "### Create a temp view and filter data"
   ]
  },
  {
   "cell_type": "code",
   "execution_count": 80,
   "id": "bf8d164f",
   "metadata": {},
   "outputs": [],
   "source": [
    "# temp view is created to make data queryable with sparkSession.sql()\n",
    "clickstream.createOrReplaceTempView('clickstream')"
   ]
  },
  {
   "cell_type": "code",
   "execution_count": 81,
   "id": "cce8ca4b",
   "metadata": {},
   "outputs": [],
   "source": [
    "# filter using SQL method\n",
    "hanging_gardens_of_babylon_qry = \"\"\"\n",
    "                                 SELECT * FROM clickstream WHERE target_page = 'Hanging_Gardens_of_Babylon'\n",
    "                                 ORDER BY click_count DESC\n",
    "                                 \"\"\""
   ]
  },
  {
   "cell_type": "code",
   "execution_count": 82,
   "id": "a059a4b7",
   "metadata": {},
   "outputs": [
    {
     "name": "stdout",
     "output_type": "stream",
     "text": [
      "+----------------------------------+--------------------------+-------------+-----------+\n",
      "|source_page                       |target_page               |link_category|click_count|\n",
      "+----------------------------------+--------------------------+-------------+-----------+\n",
      "|other-search                      |Hanging_Gardens_of_Babylon|external     |47088      |\n",
      "|other-empty                       |Hanging_Gardens_of_Babylon|external     |34619      |\n",
      "|Wonders_of_the_World              |Hanging_Gardens_of_Babylon|link         |14668      |\n",
      "|Seven_Wonders_of_the_Ancient_World|Hanging_Gardens_of_Babylon|link         |12296      |\n",
      "+----------------------------------+--------------------------+-------------+-----------+\n",
      "\n"
     ]
    }
   ],
   "source": [
    "spark.sql(hanging_gardens_of_babylon_qry).show(truncate=False)"
   ]
  },
  {
   "cell_type": "code",
   "execution_count": 83,
   "id": "8015edfb",
   "metadata": {
    "scrolled": true
   },
   "outputs": [
    {
     "name": "stdout",
     "output_type": "stream",
     "text": [
      "+--------------------+--------------------+-------------+-----------+\n",
      "|         source_page|         target_page|link_category|click_count|\n",
      "+--------------------+--------------------+-------------+-----------+\n",
      "|        other-search|Hanging_Gardens_o...|     external|      47088|\n",
      "|         other-empty|Hanging_Gardens_o...|     external|      34619|\n",
      "|Wonders_of_the_World|Hanging_Gardens_o...|         link|      14668|\n",
      "|Seven_Wonders_of_...|Hanging_Gardens_o...|         link|      12296|\n",
      "+--------------------+--------------------+-------------+-----------+\n",
      "\n"
     ]
    }
   ],
   "source": [
    "# filter using PySpark Methods\n",
    "clickstream_filtered = clickstream.filter(clickstream.target_page == 'Hanging_Gardens_of_Babylon').orderBy('click_count', ascending = False)\n",
    "clickstream_filtered.show(5)"
   ]
  },
  {
   "cell_type": "code",
   "execution_count": 84,
   "id": "5d781f09",
   "metadata": {},
   "outputs": [],
   "source": [
    "# sum of click_count using a SQL query\n",
    "sum_click_count_qry = \"\"\"\n",
    "                      SELECT SUM(click_count), link_category FROM clickstream\n",
    "                      GROUP BY link_category\n",
    "                      \"\"\""
   ]
  },
  {
   "cell_type": "code",
   "execution_count": 85,
   "id": "d0a5680f",
   "metadata": {},
   "outputs": [
    {
     "name": "stdout",
     "output_type": "stream",
     "text": [
      "+----------------+-------------+\n",
      "|sum(click_count)|link_category|\n",
      "+----------------+-------------+\n",
      "|97805811        |link         |\n",
      "|9338172         |other        |\n",
      "|3248677856      |external     |\n",
      "+----------------+-------------+\n",
      "\n"
     ]
    }
   ],
   "source": [
    "spark.sql(sum_click_count_qry).show(truncate=False)"
   ]
  },
  {
   "cell_type": "code",
   "execution_count": 86,
   "id": "a1cc2acc",
   "metadata": {},
   "outputs": [
    {
     "name": "stdout",
     "output_type": "stream",
     "text": [
      "+-------------+----------------+\n",
      "|link_category|sum(click_count)|\n",
      "+-------------+----------------+\n",
      "|         link|        97805811|\n",
      "|        other|         9338172|\n",
      "|     external|      3248677856|\n",
      "+-------------+----------------+\n",
      "\n"
     ]
    }
   ],
   "source": [
    "# sum of click_count using PySpark method\n",
    "clickstream_click_count = clickstream.groupBy('link_category').sum('click_count')\n",
    "clickstream_click_count.show()"
   ]
  },
  {
   "cell_type": "markdown",
   "id": "90f82dfd",
   "metadata": {},
   "source": [
    "## Save to Disk"
   ]
  },
  {
   "cell_type": "code",
   "execution_count": 88,
   "id": "2e2e3171",
   "metadata": {},
   "outputs": [
    {
     "name": "stdout",
     "output_type": "stream",
     "text": [
      "+-------------------+-------------+-----------+\n",
      "|        source_page|link_category|click_count|\n",
      "+-------------------+-------------+-----------+\n",
      "|   Daniel_Day-Lewis|         link|      43190|\n",
      "|90th_Academy_Awards|         link|      40449|\n",
      "|             Shinee|         link|      24433|\n",
      "|     Agnyaathavaasi|         link|      15020|\n",
      "|     Naa_Peru_Surya|         link|      12361|\n",
      "+-------------------+-------------+-----------+\n",
      "only showing top 5 rows\n",
      "\n"
     ]
    }
   ],
   "source": [
    "# Create a new DataFrame named `internal_clickstream`\n",
    "internal_clickstream = clickstream.filter(clickstream.link_category == 'link').select(['source_page', 'link_category', 'click_count'])\n",
    "internal_clickstream.show(5)"
   ]
  },
  {
   "cell_type": "code",
   "execution_count": 91,
   "id": "7bf5b3ea",
   "metadata": {},
   "outputs": [],
   "source": [
    "# save as csv\n",
    "internal_clickstream.write.csv('./results/article_to_article_csv/')"
   ]
  },
  {
   "cell_type": "code",
   "execution_count": 92,
   "id": "45e358f3",
   "metadata": {},
   "outputs": [],
   "source": [
    "# save as parquet\n",
    "internal_clickstream.write.parquet('./results/article_to_article_pq/')"
   ]
  },
  {
   "cell_type": "markdown",
   "id": "f21810cb",
   "metadata": {},
   "source": [
    "## Close SparkSession"
   ]
  },
  {
   "cell_type": "code",
   "execution_count": 98,
   "id": "c864415a",
   "metadata": {},
   "outputs": [],
   "source": [
    "spark.stop()"
   ]
  }
 ],
 "metadata": {
  "kernelspec": {
   "display_name": "Python 3 (ipykernel)",
   "language": "python",
   "name": "python3"
  },
  "language_info": {
   "codemirror_mode": {
    "name": "ipython",
    "version": 3
   },
   "file_extension": ".py",
   "mimetype": "text/x-python",
   "name": "python",
   "nbconvert_exporter": "python",
   "pygments_lexer": "ipython3",
   "version": "3.10.0"
  }
 },
 "nbformat": 4,
 "nbformat_minor": 5
}
