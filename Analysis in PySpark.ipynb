{
 "cells": [
  {
   "cell_type": "markdown",
   "id": "0d467990",
   "metadata": {},
   "source": [
    "# Analysis in PySpark"
   ]
  },
  {
   "cell_type": "markdown",
   "id": "94e16f18",
   "metadata": {},
   "source": [
    "https://www.codecademy.com/courses/big-data-pyspark/lessons/pyspark-sql-lesson/exercises/querying-pyspark-dataframes"
   ]
  },
  {
   "cell_type": "code",
   "execution_count": 10,
   "id": "3254594a",
   "metadata": {},
   "outputs": [],
   "source": [
    "from pyspark.sql import SparkSession\n",
    "\n",
    "# Create a New SparkSession\n",
    "spark = SparkSession \\\n",
    "    .builder \\\n",
    "    .appName(\"learning_spark_sql\") \\\n",
    "    .getOrCreate()\n",
    "\n",
    "# Read in Wikipedia Unique Visitors Dataset\n",
    "wiki_uniq_df = spark.read\\\n",
    "    .option('header', True) \\\n",
    "    .option('delimiter', ',') \\\n",
    "    .option('inferSchema', True) \\\n",
    "    .csv(\"wiki_uniq_march_2022_w_site_type.csv\")"
   ]
  },
  {
   "cell_type": "markdown",
   "id": "d902447a",
   "metadata": {},
   "source": [
    "## Filter data"
   ]
  },
  {
   "cell_type": "code",
   "execution_count": 11,
   "id": "f98e93ad",
   "metadata": {},
   "outputs": [
    {
     "name": "stdout",
     "output_type": "stream",
     "text": [
      "+------------------+-------------------+-----------------+-------------------+-------------+---------+\n",
      "|            domain|uniq_human_visitors|uniq_bot_visitors|total_visitor_count|language_code|site_type|\n",
      "+------------------+-------------------+-----------------+-------------------+-------------+---------+\n",
      "|en.m.wikipedia.org|           33261399|          8400247|           41661646|           en|wikipedia|\n",
      "|  en.wikipedia.org|           17009339|          4851741|           21861080|           en|wikipedia|\n",
      "|es.m.wikipedia.org|            5668575|          1977289|            7645864|           es|wikipedia|\n",
      "|ru.m.wikipedia.org|            5816762|          1367179|            7183941|           ru|wikipedia|\n",
      "|ja.m.wikipedia.org|            5396108|          1325212|            6721320|           ja|wikipedia|\n",
      "+------------------+-------------------+-----------------+-------------------+-------------+---------+\n",
      "only showing top 5 rows\n",
      "\n"
     ]
    }
   ],
   "source": [
    "wiki_uniq_df.show(5)"
   ]
  },
  {
   "cell_type": "code",
   "execution_count": 25,
   "id": "d39e0a98",
   "metadata": {},
   "outputs": [
    {
     "name": "stdout",
     "output_type": "stream",
     "text": [
      "+--------------------+-------------------+-----------------+-------------------+-------------+-----------+\n",
      "|              domain|uniq_human_visitors|uniq_bot_visitors|total_visitor_count|language_code|  site_type|\n",
      "+--------------------+-------------------+-----------------+-------------------+-------------+-----------+\n",
      "|  ar.m.wikipedia.org|            1644253|           750620|            2394873|           ar|  wikipedia|\n",
      "|    ar.wikipedia.org|             212695|            97700|             310395|           ar|  wikipedia|\n",
      "| ar.m.wikisource.org|              56124|            52885|             109009|           ar| wikisource|\n",
      "|   ar.wikisource.org|               2134|             4355|               6489|           ar| wikisource|\n",
      "|  ar.m.wikiquote.org|                776|             3511|               4287|           ar|  wikiquote|\n",
      "|   ar.wiktionary.org|                262|             2335|               2597|           ar| wiktionary|\n",
      "| ar.m.wiktionary.org|                448|             1577|               2025|           ar| wiktionary|\n",
      "|ar.m.wikiversity.org|                389|              958|               1347|           ar|wikiversity|\n",
      "|  ar.m.wikibooks.org|                378|              855|               1233|           ar|  wikibooks|\n",
      "+--------------------+-------------------+-----------------+-------------------+-------------+-----------+\n",
      "\n"
     ]
    }
   ],
   "source": [
    "ar_site_visitors = wiki_uniq_df.filter(wiki_uniq_df.language_code == 'ar')\n",
    "ar_site_visitors.show()"
   ]
  },
  {
   "cell_type": "code",
   "execution_count": 26,
   "id": "ec5b7ac8",
   "metadata": {},
   "outputs": [
    {
     "name": "stdout",
     "output_type": "stream",
     "text": [
      "+--------------------+-------------------+\n",
      "|              domain|uniq_human_visitors|\n",
      "+--------------------+-------------------+\n",
      "|  ar.m.wikipedia.org|            1644253|\n",
      "|    ar.wikipedia.org|             212695|\n",
      "| ar.m.wikisource.org|              56124|\n",
      "|   ar.wikisource.org|               2134|\n",
      "|  ar.m.wikiquote.org|                776|\n",
      "|   ar.wiktionary.org|                262|\n",
      "| ar.m.wiktionary.org|                448|\n",
      "|ar.m.wikiversity.org|                389|\n",
      "|  ar.m.wikibooks.org|                378|\n",
      "+--------------------+-------------------+\n",
      "\n"
     ]
    }
   ],
   "source": [
    "ar_visitors_slim = ar_site_visitors.select(['domain', 'uniq_human_visitors'])\n",
    "ar_visitors_slim.show()"
   ]
  },
  {
   "cell_type": "markdown",
   "id": "651c9355",
   "metadata": {},
   "source": [
    "## Calculate the sum of all uniq_human_visitors"
   ]
  },
  {
   "cell_type": "code",
   "execution_count": 33,
   "id": "092689b8",
   "metadata": {},
   "outputs": [
    {
     "name": "stdout",
     "output_type": "stream",
     "text": [
      "+-----------+------------------------+\n",
      "|  site_type|sum(uniq_human_visitors)|\n",
      "+-----------+------------------------+\n",
      "|  wikipedia|               116527479|\n",
      "| wiktionary|                  892193|\n",
      "|  wikimedia|                  312995|\n",
      "| wikisource|                  172179|\n",
      "|   wikidata|                   69744|\n",
      "|  wikibooks|                   54680|\n",
      "|  wikiquote|                   38048|\n",
      "| wikivoyage|                   14648|\n",
      "|       wiki|                   13067|\n",
      "|wikiversity|                   12548|\n",
      "|   wikinews|                    5578|\n",
      "|   wikitech|                     751|\n",
      "+-----------+------------------------+\n",
      "\n"
     ]
    }
   ],
   "source": [
    "top_visitors_site_type = wiki_uniq_df.select(['site_type', 'uniq_human_visitors']).groupby('site_type').sum().orderBy('sum(uniq_human_visitors)', ascending=False)\n",
    "top_visitors_site_type.show()"
   ]
  }
 ],
 "metadata": {
  "kernelspec": {
   "display_name": "Python 3 (ipykernel)",
   "language": "python",
   "name": "python3"
  },
  "language_info": {
   "codemirror_mode": {
    "name": "ipython",
    "version": 3
   },
   "file_extension": ".py",
   "mimetype": "text/x-python",
   "name": "python",
   "nbconvert_exporter": "python",
   "pygments_lexer": "ipython3",
   "version": "3.10.0"
  }
 },
 "nbformat": 4,
 "nbformat_minor": 5
}
